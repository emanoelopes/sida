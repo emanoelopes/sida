{
 "cells": [
  {
   "cell_type": "code",
   "execution_count": 24,
   "id": "9e33bf6a",
   "metadata": {},
   "outputs": [],
   "source": [
    "import pandas as pd\n",
    "import pygwalker as pyg\n",
    "import streamlit as st\n",
    "import numpy as np"
   ]
  },
  {
   "cell_type": "code",
   "execution_count": 25,
   "id": "b9e80420",
   "metadata": {},
   "outputs": [
    {
     "name": "stderr",
     "output_type": "stream",
     "text": [
      "2025-09-08 23:49:00.231 Thread 'MainThread': missing ScriptRunContext! This warning can be ignored when running in bare mode.\n",
      "2025-09-08 23:49:00.236 Thread 'MainThread': missing ScriptRunContext! This warning can be ignored when running in bare mode.\n",
      "2025-09-08 23:49:00.238 Thread 'MainThread': missing ScriptRunContext! This warning can be ignored when running in bare mode.\n",
      "2025-09-08 23:49:00.243 Thread 'MainThread': missing ScriptRunContext! This warning can be ignored when running in bare mode.\n",
      "2025-09-08 23:49:00.244 Thread 'MainThread': missing ScriptRunContext! This warning can be ignored when running in bare mode.\n",
      "2025-09-08 23:49:00.246 Thread 'MainThread': missing ScriptRunContext! This warning can be ignored when running in bare mode.\n"
     ]
    },
    {
     "name": "stdout",
     "output_type": "stream",
     "text": [
      "Colunas disponíveis: ['Aluno', 'Números Inteiros', 'Frações', 'Equações', 'Geometria Básica', 'Funções', 'Trigonometria', 'Probabilidade', 'Estatística']\n",
      "Primeiras linhas:\n",
      "     Aluno  Números Inteiros  Frações  Equações  Geometria Básica  Funções  \\\n",
      "0  Aluno_1               8.7      9.4       9.8               9.5      8.6   \n",
      "1  Aluno_2               5.6      8.8       5.3               3.6      7.1   \n",
      "2  Aluno_3               6.0      9.5       8.7               6.8      6.4   \n",
      "3  Aluno_4               8.2      3.2       4.1               9.9      4.4   \n",
      "4  Aluno_5               4.5      3.5       5.3               9.0      6.7   \n",
      "\n",
      "   Trigonometria  Probabilidade  Estatística  \n",
      "0            3.9            4.4          8.2  \n",
      "1            4.8            5.0          5.0  \n",
      "2            8.2            4.0          3.5  \n",
      "3            6.2            5.9          3.4  \n",
      "4            4.0            6.5          3.9  \n",
      "\n",
      "Estatísticas descritivas:\n",
      "       Números Inteiros    Frações   Equações  Geometria Básica   Funções  \\\n",
      "count          50.00000  50.000000  50.000000         50.000000  50.00000   \n",
      "mean            6.35000   6.760000   6.506000          7.200000   6.29600   \n",
      "std             1.81819   2.048593   2.232086          2.050883   1.87355   \n",
      "min             3.10000   3.000000   3.200000          3.600000   3.00000   \n",
      "25%             4.82500   5.400000   4.400000          5.850000   4.82500   \n",
      "50%             6.35000   6.950000   6.150000          7.000000   6.35000   \n",
      "75%             7.50000   8.550000   8.700000          9.200000   7.60000   \n",
      "max            10.00000   9.900000   9.800000          9.900000  10.00000   \n",
      "\n",
      "       Trigonometria  Probabilidade  Estatística  \n",
      "count      50.000000      50.000000    50.000000  \n",
      "mean        6.604000       6.398000     6.332000  \n",
      "std         2.126313       2.177669     2.123382  \n",
      "min         3.100000       3.200000     3.100000  \n",
      "25%         4.825000       4.500000     4.400000  \n",
      "50%         6.650000       6.300000     6.650000  \n",
      "75%         8.475000       8.450000     8.150000  \n",
      "max         9.900000      10.000000     9.800000  \n"
     ]
    },
    {
     "name": "stderr",
     "output_type": "stream",
     "text": [
      "2025-09-08 23:49:00.425 Thread 'MainThread': missing ScriptRunContext! This warning can be ignored when running in bare mode.\n",
      "2025-09-08 23:49:00.427 Thread 'MainThread': missing ScriptRunContext! This warning can be ignored when running in bare mode.\n",
      "2025-09-08 23:49:00.428 Thread 'MainThread': missing ScriptRunContext! This warning can be ignored when running in bare mode.\n",
      "2025-09-08 23:49:00.430 Thread 'MainThread': missing ScriptRunContext! This warning can be ignored when running in bare mode.\n",
      "2025-09-08 23:49:00.433 Thread 'MainThread': missing ScriptRunContext! This warning can be ignored when running in bare mode.\n",
      "2025-09-08 23:49:00.434 Thread 'MainThread': missing ScriptRunContext! This warning can be ignored when running in bare mode.\n",
      "2025-09-08 23:49:00.470 Thread 'MainThread': missing ScriptRunContext! This warning can be ignored when running in bare mode.\n",
      "2025-09-08 23:49:00.472 Thread 'MainThread': missing ScriptRunContext! This warning can be ignored when running in bare mode.\n",
      "2025-09-08 23:49:00.476 Thread 'MainThread': missing ScriptRunContext! This warning can be ignored when running in bare mode.\n",
      "2025-09-08 23:49:00.477 Thread 'MainThread': missing ScriptRunContext! This warning can be ignored when running in bare mode.\n",
      "2025-09-08 23:49:00.480 Thread 'MainThread': missing ScriptRunContext! This warning can be ignored when running in bare mode.\n",
      "2025-09-08 23:49:00.484 Thread 'MainThread': missing ScriptRunContext! This warning can be ignored when running in bare mode.\n",
      "WARNING: Parameter `debug` is expired, please use `spec_io_mode` instead.\n"
     ]
    },
    {
     "data": {
      "application/vnd.jupyter.widget-view+json": {
       "model_id": "b7098496d458406da66301e70992d4fb",
       "version_major": 2,
       "version_minor": 0
      },
      "text/plain": [
       "Box(children=(HTML(value='\\n<div id=\"ifr-pyg-00063e5558a41240i5Op8kLQvGmSCVnX\" style=\"height: auto\">\\n    <hea…"
      ]
     },
     "metadata": {},
     "output_type": "display_data"
    },
    {
     "data": {
      "text/html": [
       "<script>\n",
       "    window.addEventListener(\"message\", function(event) {\n",
       "        const backgroundMap = {\n",
       "            \"dark\": \"hsl(240 10% 3.9%)\",\n",
       "            \"light\": \"hsl(0 0 100%)\",\n",
       "        };\n",
       "        const colorMap = {\n",
       "            \"dark\": \"hsl(0 0% 98%)\",\n",
       "            \"light\": \"hsl(240 10% 3.9%)\",\n",
       "        };\n",
       "        if (event.data.action === \"changeAppearance\" && event.data.gid === \"00063e5558a41240i5Op8kLQvGmSCVnX\") {\n",
       "            var iframe = document.getElementById(\"gwalker-00063e5558a41240i5Op8kLQvGmSCVnX\");\n",
       "            iframe.style.background  = backgroundMap[event.data.appearance];\n",
       "            iframe.style.color = colorMap[event.data.appearance];\n",
       "        }\n",
       "    });\n",
       "</script>"
      ],
      "text/plain": [
       "<IPython.core.display.HTML object>"
      ]
     },
     "metadata": {},
     "output_type": "display_data"
    },
    {
     "data": {
      "text/html": [],
      "text/plain": [
       "<IPython.core.display.HTML object>"
      ]
     },
     "metadata": {},
     "output_type": "display_data"
    },
    {
     "data": {
      "text/plain": [
       "<pygwalker.api.pygwalker.PygWalker at 0x7f4ad6d2b730>"
      ]
     },
     "execution_count": 25,
     "metadata": {},
     "output_type": "execute_result"
    }
   ],
   "source": [
    "# Carregar os dados\n",
    "df = pd.read_csv('output1.csv')\n",
    "\n",
    "# Verificar a estrutura dos dados\n",
    "print(\"Colunas disponíveis:\", df.columns.tolist())\n",
    "print(\"Primeiras linhas:\")\n",
    "print(df.head())\n",
    "\n",
    "# Configurar o índice para o nome do aluno\n",
    "df.set_index('Aluno', inplace=True)\n",
    "\n",
    "# Mostrar estatísticas básicas\n",
    "print(\"\\nEstatísticas descritivas:\")\n",
    "print(df.describe())\n",
    "\n",
    "# Criar visualizações com Streamlit\n",
    "st.title(\"Análise de Dados Acadêmicos - SIDA\")\n",
    "\n",
    "\n",
    "\n",
    "# Gráfico de linha para uma disciplina específica (ex: Números Inteiros)\n",
    "if 'Números Inteiros' in df.columns:\n",
    "    st.subheader(\"Notas em Números Inteiros\")\n",
    "    st.line_chart(df['Números Inteiros'])\n",
    "else:\n",
    "    st.write(\"Coluna 'Números Inteiros' não encontrada. Colunas disponíveis:\", df.columns.tolist())\n",
    "\n",
    "# Gráfico de barras com as médias por disciplina\n",
    "st.subheader(\"Médias por Disciplina\")\n",
    "mean_scores = df.mean()\n",
    "st.bar_chart(mean_scores)\n",
    "\n",
    "# Tabela interativa com PygWalker\n",
    "st.subheader(\"Exploração Interativa dos Dados\")\n",
    "pyg.walk(df, spec=\"./gw0.json\", use_kernel_calc=True, kernel_computation=True, debug=False)"
   ]
  }
 ],
 "metadata": {
  "kernelspec": {
   "display_name": ".venv",
   "language": "python",
   "name": "python3"
  },
  "language_info": {
   "codemirror_mode": {
    "name": "ipython",
    "version": 3
   },
   "file_extension": ".py",
   "mimetype": "text/x-python",
   "name": "python",
   "nbconvert_exporter": "python",
   "pygments_lexer": "ipython3",
   "version": "3.9.2"
  }
 },
 "nbformat": 4,
 "nbformat_minor": 5
}
