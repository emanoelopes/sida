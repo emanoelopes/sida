import pandas as pd
from sklearn.ensemble import RandomForestRegressor
from sklearn.model_selection import train_test_split
from sklearn.metrics import mean_squared_error
import numpy as np

# Função para identificar os pré-requisitos para cada aluno
def identify_prerequisite_issues(df, pre_reqs, threshold=5.0):
    """
    Identifica alunos que precisam melhorar em pré-requisitos usando Random Forest.

    Args:
        df (pd.DataFrame): Dataset com as notas dos alunos por assunto.
        pre_reqs (dict): Dicionário de pré-requisitos para cada assunto.
        threshold (float): Nota mínima para considerar que o aluno está indo bem.

    Returns:
        dict: Recomendações de pré-requisitos para cada aluno.
    """
    recommendations = {}

    for subject, reqs in pre_reqs.items():
        # Preparar os dados para o modelo
        X = df[reqs]
        y = df[subject]

        # Dividir os dados em treino e teste
        X_train, X_test, y_train, y_test = train_test_split(X, y, test_size=0.2, random_state=42)

        # Treinar o modelo Random Forest
        model = RandomForestRegressor(random_state=42)
        model.fit(X_train, y_train)

        # Verificar a importância dos pré-requisitos
        importance = model.feature_importances_
        importance_dict = {req: imp for req, imp in zip(reqs, importance)}

        # Fazer previsões para identificar alunos com dificuldade
        for _, row in df.iterrows():
            if row[subject] < threshold:  # Se a nota do aluno no assunto estiver abaixo do limite
                aluno = row["Aluno"]
                if aluno not in recommendations:
                    recommendations[aluno] = []

                # Identificar os pré-requisitos mais relevantes para revisar
                for req in reqs:
                    if req not in recommendations[aluno]:
                        recommendations[aluno].append((req, importance_dict[req]))

    # Ordenar recomendações por relevância dos pré-requisitos
    for aluno in recommendations:
        recommendations[aluno] = sorted(recommendations[aluno], key=lambda x: x[1], reverse=True)

    return recommendations

# Dados fictícios
data = {
    "Aluno": [f"Aluno_{i+1}" for i in range(50)],
    "Números Inteiros": np.random.uniform(3.0, 10.0, 50).round(1),
    "Frações": np.random.uniform(3.0, 10.0, 50).round(1),
    "Equações": np.random.uniform(3.0, 10.0, 50).round(1),
    "Geometria Básica": np.random.uniform(3.0, 10.0, 50).round(1),
    "Funções": np.random.uniform(3.0, 10.0, 50).round(1),
    "Trigonometria": np.random.uniform(3.0, 10.0, 50).round(1),
    "Probabilidade": np.random.uniform(3.0, 10.0, 50).round(1),
    "Estatística": np.random.uniform(3.0, 10.0, 50).round(1),
}

pre_reqs = {
    "Frações": ["Números Inteiros"],
    "Equações": ["Números Inteiros", "Frações"],
    "Geometria Básica": ["Números Inteiros", "Frações"],
    "Funções": ["Equações"],
    "Trigonometria": ["Geometria Básica", "Equações"],
    "Probabilidade": ["Frações", "Equações"],
    "Estatística": ["Frações", "Probabilidade"],
}

# Criando o DataFrame
df = pd.DataFrame(data)

# Identificando os pré-requisitos que os alunos precisam melhorar
recommendations = identify_prerequisite_issues(df, pre_reqs)

# Exibindo as recomendações
for aluno, recs in recommendations.items():
    print(f"Aluno: {aluno}")
    if recs:
        print("  Recomendações de revisão:")
        for req, importance in recs:
            print(f"    - {req} (Relevância: {importance:.2f})")
    else:
        print("  Está indo bem em todos os assuntos!")
